{
 "cells": [
  {
   "cell_type": "code",
   "execution_count": 1,
   "metadata": {},
   "outputs": [
    {
     "data": {
      "text/plain": [
       "True"
      ]
     },
     "metadata": {},
     "output_type": "display_data"
    },
    {
     "data": {
      "text/plain": [
       "False"
      ]
     },
     "execution_count": 1,
     "metadata": {},
     "output_type": "execute_result"
    }
   ],
   "source": [
    "#比較運算子\n",
    "x = 7\n",
    "display(x == 7)\n",
    "\n",
    "5 > x"
   ]
  },
  {
   "cell_type": "code",
   "execution_count": 2,
   "metadata": {},
   "outputs": [
    {
     "name": "stdout",
     "output_type": "stream",
     "text": [
      "及格\n"
     ]
    }
   ],
   "source": [
    "scores = int(input(\"請輸入分數:\"))\n",
    "if scores < 60:\n",
    "    print(\"不及格\")\n",
    "else:\n",
    "    print(\"及格\")"
   ]
  },
  {
   "cell_type": "code",
   "execution_count": 15,
   "metadata": {},
   "outputs": [
    {
     "name": "stdout",
     "output_type": "stream",
     "text": [
      "262\n",
      "262\n",
      "262\n",
      "程式結束\n"
     ]
    }
   ],
   "source": [
    "#學生總分為300\n",
    "#有些學生可以加分5%\n",
    "#如果加分超過300,就以300分為準\n",
    "try:\n",
    "    scores = int(input(\"請輸入學生分數(最高300分):\"))\n",
    "except:\n",
    "    print(\"輸入錯誤\")\n",
    "else:\n",
    "    is_add = input(\"學生是否符合加分條件?(y,n)\")\n",
    "    if(is_add == \"y\"): #單項選擇\n",
    "        scores *= 1.05\n",
    "        if scores > 300: #巢狀判斷\n",
    "            scores = 300\n",
    "\n",
    "    print(int(scores))\n",
    "    print(round(scores))\n",
    "    print(f'{scores:.0f}')\n",
    "\n",
    "print(\"程式結束\")\n",
    "\n"
   ]
  },
  {
   "cell_type": "code",
   "execution_count": 11,
   "metadata": {},
   "outputs": [
    {
     "name": "stdout",
     "output_type": "stream",
     "text": [
      "您的分數是:295\n",
      "程式結束\n"
     ]
    }
   ],
   "source": [
    "try:\n",
    "    scores = int(input(\"請輸入學生分數(最高300)：\"))\n",
    "    print(f\"您的分數是:{scores}\")\n",
    "except:\n",
    "    print(\"輸入錯誤:\")\n",
    "print(\"程式結束\")"
   ]
  },
  {
   "cell_type": "code",
   "execution_count": 17,
   "metadata": {},
   "outputs": [
    {
     "name": "stdout",
     "output_type": "stream",
     "text": [
      "60~80\n"
     ]
    }
   ],
   "source": [
    "#兩個條件使用巢狀判斷\n",
    "\n",
    "scores = 75\n",
    "if scores >= 60:\n",
    "    if scores <= 80:\n",
    "        print(\"60~80\") #兩個條件成立的時候才會執行\n",
    "    else:\n",
    "        print(\"大於80\")\n",
    "else:\n",
    "    print(\"小於60\")"
   ]
  },
  {
   "cell_type": "code",
   "execution_count": 19,
   "metadata": {},
   "outputs": [
    {
     "name": "stdout",
     "output_type": "stream",
     "text": [
      "小於60\n"
     ]
    }
   ],
   "source": [
    "#兩個條件時可使用\"邏輯運算子\"\n",
    "#and(同時、嚴格傳出true): bool值 and bool值\n",
    "\n",
    "scores = 59\n",
    "if scores >= 60 and scores <= 80:\n",
    "    print(\"60~80\")\n",
    "else :\n",
    "    if scores <= 60:\n",
    "        print(\"小於60\")\n",
    "    else:\n",
    "        print(\"大於80\")\n"
   ]
  },
  {
   "cell_type": "code",
   "execution_count": null,
   "metadata": {},
   "outputs": [],
   "source": [
    "\n",
    "scores = 50\n",
    "\n",
    "if scores <= 60:\n",
    "    print(\"小於等於60\")\n",
    "\n",
    "if scores >= 80:\n",
    "    print(\"大於等於80\")\n"
   ]
  },
  {
   "cell_type": "code",
   "execution_count": 20,
   "metadata": {},
   "outputs": [
    {
     "name": "stdout",
     "output_type": "stream",
     "text": [
      "小於60或者大於等於80\n"
     ]
    }
   ],
   "source": [
    "#兩個條件時可使用\"邏輯運算子\"\n",
    "#or(或者、容易傳出true): bool值 or bool值\n",
    "\n",
    "scores = 92\n",
    "\n",
    "if scores <= 60 or scores >= 80:\n",
    "    print(\"小於60或者大於等於80\")\n",
    "else:\n",
    "    print(\"61~79之間\")"
   ]
  },
  {
   "cell_type": "code",
   "execution_count": 24,
   "metadata": {},
   "outputs": [
    {
     "name": "stdout",
     "output_type": "stream",
     "text": [
      "小於60\n"
     ]
    }
   ],
   "source": [
    "#多項選擇\n",
    "scores = 54\n",
    "if scores < 60:\n",
    "    print(\"小於60\")\n",
    "elif scores < 80: #elif:整合else跟if的函式\n",
    "        print(\"60~80\")\n",
    "else:\n",
    "        print(\"81~100\")"
   ]
  },
  {
   "cell_type": "code",
   "execution_count": 27,
   "metadata": {},
   "outputs": [
    {
     "name": "stdout",
     "output_type": "stream",
     "text": [
      "小於60\n"
     ]
    }
   ],
   "source": [
    "#多項選擇\n",
    "scores = 92\n",
    "\n",
    "if scores > 80:\n",
    "    print(\"81~100\")\n",
    "elif scores >= 60:\n",
    "    print(\"60~80\")\n",
    "else:\n",
    "    print(\"小於60\")"
   ]
  },
  {
   "cell_type": "code",
   "execution_count": 36,
   "metadata": {},
   "outputs": [
    {
     "name": "stdout",
     "output_type": "stream",
     "text": [
      "甲\n"
     ]
    }
   ],
   "source": [
    "# 90(含)~100分為「優」\n",
    "# 80(含)~89分為「甲」\n",
    "# 70(含)~79分為「乙」\n",
    "# 60(含)~69分為「丙」\n",
    "# 0(含)~59分為「丁」\n",
    "\n",
    "scores = int(input(\"請輸入學生分數:\"))\n",
    "if scores >= 90:\n",
    "    print(\"優\")\n",
    "elif scores >= 80:\n",
    "    print(\"甲\")\n",
    "elif scores >= 70:\n",
    "    print(\"乙\")\n",
    "elif scores >= 60:\n",
    "    print(\"丙\")\n",
    "else:\n",
    "    print(\"丁\")\n",
    "\n"
   ]
  },
  {
   "cell_type": "code",
   "execution_count": 12,
   "metadata": {},
   "outputs": [
    {
     "name": "stdout",
     "output_type": "stream",
     "text": [
      "購買金額是:130000\n",
      "實付金額是:104000\n"
     ]
    }
   ],
   "source": [
    "#週年慶\n",
    "#輸入顧客購買金額，若金額在\n",
    "#100000元打8折. \n",
    "#50000打85折. \n",
    "#30000打9折. \n",
    "#10000打95折. \n",
    "\n",
    "money = int(input(\"請輸入購買金額:\"))\n",
    "if money < 10000:\n",
    "    paymoney = money\n",
    "elif money < 30000:\n",
    "    paymoney = money * 0.95\n",
    "elif money < 50000:\n",
    "    paymoney = money * 0.9\n",
    "elif money < 100000:\n",
    "    paymoney = money * 0.85\n",
    "else:\n",
    "    paymoney = money * 0.8\n",
    "\n",
    "print(f\"購買金額是:{money}\")\n",
    "print(f\"實付金額是:{paymoney:.0f}\")\n"
   ]
  },
  {
   "cell_type": "code",
   "execution_count": 20,
   "metadata": {},
   "outputs": [
    {
     "name": "stdout",
     "output_type": "stream",
     "text": [
      "獎金:1000\n"
     ]
    }
   ],
   "source": [
    "#國文分數100,同時數學100,獎金1000元\n",
    "#國文分數100,或者數學100,獎金500元\n",
    "#其它獎金0元\n",
    "\n",
    "chinscores = int(input(\"請輸入國文成績:\"))\n",
    "mathscores = int(input(\"請輸入數學成績:\"))\n",
    "bonus = 0\n",
    "\n",
    "if chinscores == 100 and mathscores == 100: #嚴格的and要在上面\n",
    "    bonus = 1000\n",
    "elif chinscores == 100 or mathscores == 100:\n",
    "    bonus = 500\n",
    "    \n",
    "print(f\"獎金:{bonus}\")\n"
   ]
  },
  {
   "cell_type": "code",
   "execution_count": 21,
   "metadata": {},
   "outputs": [
    {
     "data": {
      "text/plain": [
       "55"
      ]
     },
     "execution_count": 21,
     "metadata": {},
     "output_type": "execute_result"
    }
   ],
   "source": [
    "#迴圈→程式區塊重複執行\n",
    "#明確知道執行的次數→ for...in...\n",
    "#不 明確知道執行的次數→ while\n",
    "\n",
    "sum = 0\n",
    "sum+= 1\n",
    "sum+= 2\n",
    "sum+= 3\n",
    "sum+= 4\n",
    "sum+= 5\n",
    "sum+= 6\n",
    "sum+= 7\n",
    "sum+= 8\n",
    "sum+= 9\n",
    "sum+= 10\n",
    "\n",
    "sum"
   ]
  },
  {
   "cell_type": "code",
   "execution_count": 22,
   "metadata": {},
   "outputs": [
    {
     "data": {
      "text/plain": [
       "5050"
      ]
     },
     "execution_count": 22,
     "metadata": {},
     "output_type": "execute_result"
    }
   ],
   "source": [
    "sum = 0\n",
    "for i in range(1,101):\n",
    "    sum += i\n",
    "\n",
    "sum"
   ]
  }
 ],
 "metadata": {
  "kernelspec": {
   "display_name": "Python 3",
   "language": "python",
   "name": "python3"
  },
  "language_info": {
   "codemirror_mode": {
    "name": "ipython",
    "version": 3
   },
   "file_extension": ".py",
   "mimetype": "text/x-python",
   "name": "python",
   "nbconvert_exporter": "python",
   "pygments_lexer": "ipython3",
   "version": "3.10.12"
  },
  "orig_nbformat": 4
 },
 "nbformat": 4,
 "nbformat_minor": 2
}
